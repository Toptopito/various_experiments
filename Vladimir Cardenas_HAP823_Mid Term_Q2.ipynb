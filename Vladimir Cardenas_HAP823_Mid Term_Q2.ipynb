{
 "cells": [
  {
   "cell_type": "code",
   "execution_count": 1,
   "metadata": {},
   "outputs": [],
   "source": [
    "# Import Libraries\n",
    "import pandas as pd\n",
    "import numpy as np\n",
    "from sklearn.linear_model import LassoCV\n",
    "from sklearn.metrics import log_loss"
   ]
  },
  {
   "cell_type": "code",
   "execution_count": 2,
   "metadata": {},
   "outputs": [
    {
     "name": "stdout",
     "output_type": "stream",
     "text": [
      "<class 'pandas.core.frame.DataFrame'>\n",
      "RangeIndex: 10000 entries, 0 to 9999\n",
      "Data columns (total 7 columns):\n",
      " #   Column          Non-Null Count  Dtype \n",
      "---  ------          --------------  ----- \n",
      " 0   ID              10000 non-null  int64 \n",
      " 1   Antidepressant  10000 non-null  object\n",
      " 2   Female          10000 non-null  object\n",
      " 3   Age>30          10000 non-null  object\n",
      " 4   Weight Gain     10000 non-null  object\n",
      " 5   Remission       10000 non-null  object\n",
      " 6   Psychosis       10000 non-null  object\n",
      "dtypes: int64(1), object(6)\n",
      "memory usage: 547.0+ KB\n"
     ]
    }
   ],
   "source": [
    "# Import the data\n",
    "df = pd.read_csv('./data/Exam Cases.csv')\n",
    "\n",
    "df.info()"
   ]
  },
  {
   "cell_type": "markdown",
   "metadata": {},
   "source": [
    "# Data Preparation"
   ]
  },
  {
   "cell_type": "code",
   "execution_count": 3,
   "metadata": {},
   "outputs": [],
   "source": [
    "# Drop ID column\n",
    "df = df.drop(columns=['ID'])"
   ]
  },
  {
   "cell_type": "code",
   "execution_count": 4,
   "metadata": {},
   "outputs": [
    {
     "name": "stdout",
     "output_type": "stream",
     "text": [
      "<class 'pandas.core.frame.DataFrame'>\n",
      "RangeIndex: 10000 entries, 0 to 9999\n",
      "Data columns (total 6 columns):\n",
      " #   Column          Non-Null Count  Dtype\n",
      "---  ------          --------------  -----\n",
      " 0   Antidepressant  10000 non-null  int64\n",
      " 1   Female          10000 non-null  int64\n",
      " 2   Age>30          10000 non-null  int64\n",
      " 3   Weight Gain     10000 non-null  int64\n",
      " 4   Remission       10000 non-null  int64\n",
      " 5   Psychosis       10000 non-null  int64\n",
      "dtypes: int64(6)\n",
      "memory usage: 468.9 KB\n"
     ]
    }
   ],
   "source": [
    "# Recode Yes to 1 and No to 0\n",
    "# Define a function to recode 'Yes' to 1 and 'No' to 0\n",
    "def recode(value):\n",
    "    if value == 'Yes':\n",
    "        return 1\n",
    "    else:\n",
    "        return 0\n",
    "\n",
    "# Apply the function to all columns of the DataFrame\n",
    "df = df.applymap(recode)\n",
    "\n",
    "# Convert columns to numeric\n",
    "df = df.apply(pd.to_numeric)\n",
    "\n",
    "df.info()"
   ]
  },
  {
   "cell_type": "code",
   "execution_count": 5,
   "metadata": {},
   "outputs": [
    {
     "data": {
      "text/html": [
       "<div>\n",
       "<style scoped>\n",
       "    .dataframe tbody tr th:only-of-type {\n",
       "        vertical-align: middle;\n",
       "    }\n",
       "\n",
       "    .dataframe tbody tr th {\n",
       "        vertical-align: top;\n",
       "    }\n",
       "\n",
       "    .dataframe thead th {\n",
       "        text-align: right;\n",
       "    }\n",
       "</style>\n",
       "<table border=\"1\" class=\"dataframe\">\n",
       "  <thead>\n",
       "    <tr style=\"text-align: right;\">\n",
       "      <th></th>\n",
       "      <th>Age&gt;30</th>\n",
       "      <th>Female</th>\n",
       "      <th>Psychosis</th>\n",
       "      <th>Antidepressant</th>\n",
       "      <th>Weight Gain</th>\n",
       "      <th>Remission</th>\n",
       "    </tr>\n",
       "  </thead>\n",
       "  <tbody>\n",
       "    <tr>\n",
       "      <th>0</th>\n",
       "      <td>1</td>\n",
       "      <td>1</td>\n",
       "      <td>0</td>\n",
       "      <td>1</td>\n",
       "      <td>1</td>\n",
       "      <td>1</td>\n",
       "    </tr>\n",
       "    <tr>\n",
       "      <th>1</th>\n",
       "      <td>1</td>\n",
       "      <td>1</td>\n",
       "      <td>0</td>\n",
       "      <td>1</td>\n",
       "      <td>0</td>\n",
       "      <td>1</td>\n",
       "    </tr>\n",
       "    <tr>\n",
       "      <th>2</th>\n",
       "      <td>1</td>\n",
       "      <td>1</td>\n",
       "      <td>0</td>\n",
       "      <td>1</td>\n",
       "      <td>0</td>\n",
       "      <td>0</td>\n",
       "    </tr>\n",
       "    <tr>\n",
       "      <th>3</th>\n",
       "      <td>1</td>\n",
       "      <td>0</td>\n",
       "      <td>1</td>\n",
       "      <td>1</td>\n",
       "      <td>0</td>\n",
       "      <td>1</td>\n",
       "    </tr>\n",
       "    <tr>\n",
       "      <th>4</th>\n",
       "      <td>0</td>\n",
       "      <td>1</td>\n",
       "      <td>0</td>\n",
       "      <td>1</td>\n",
       "      <td>1</td>\n",
       "      <td>1</td>\n",
       "    </tr>\n",
       "  </tbody>\n",
       "</table>\n",
       "</div>"
      ],
      "text/plain": [
       "   Age>30  Female  Psychosis  Antidepressant  Weight Gain  Remission\n",
       "0       1       1          0               1            1          1\n",
       "1       1       1          0               1            0          1\n",
       "2       1       1          0               1            0          0\n",
       "3       1       0          1               1            0          1\n",
       "4       0       1          0               1            1          1"
      ]
     },
     "execution_count": 5,
     "metadata": {},
     "output_type": "execute_result"
    }
   ],
   "source": [
    "# Reorder columns\n",
    "cols_in_order = ['Age>30',\n",
    "                 'Female',\n",
    "                 'Psychosis',\n",
    "                 'Antidepressant',\n",
    "                 'Weight Gain',\n",
    "                 'Remission']\n",
    "\n",
    "df = df[cols_in_order]\n",
    "df.head()"
   ]
  },
  {
   "cell_type": "markdown",
   "metadata": {},
   "source": [
    "# Data Analysis for the Exam"
   ]
  },
  {
   "cell_type": "markdown",
   "metadata": {},
   "source": [
    "## Predictors of Remission"
   ]
  },
  {
   "cell_type": "code",
   "execution_count": 6,
   "metadata": {},
   "outputs": [],
   "source": [
    "# First we need to see if Antidepressant is a predictor of Remission\n",
    "\n",
    "# Create dependent variable\n",
    "y = df['Remission']\n",
    "\n",
    "# Create independent variables\n",
    "X = df.drop(columns=['Remission'])"
   ]
  },
  {
   "cell_type": "code",
   "execution_count": 7,
   "metadata": {},
   "outputs": [
    {
     "data": {
      "text/html": [
       "<style>#sk-container-id-1 {color: black;}#sk-container-id-1 pre{padding: 0;}#sk-container-id-1 div.sk-toggleable {background-color: white;}#sk-container-id-1 label.sk-toggleable__label {cursor: pointer;display: block;width: 100%;margin-bottom: 0;padding: 0.3em;box-sizing: border-box;text-align: center;}#sk-container-id-1 label.sk-toggleable__label-arrow:before {content: \"▸\";float: left;margin-right: 0.25em;color: #696969;}#sk-container-id-1 label.sk-toggleable__label-arrow:hover:before {color: black;}#sk-container-id-1 div.sk-estimator:hover label.sk-toggleable__label-arrow:before {color: black;}#sk-container-id-1 div.sk-toggleable__content {max-height: 0;max-width: 0;overflow: hidden;text-align: left;background-color: #f0f8ff;}#sk-container-id-1 div.sk-toggleable__content pre {margin: 0.2em;color: black;border-radius: 0.25em;background-color: #f0f8ff;}#sk-container-id-1 input.sk-toggleable__control:checked~div.sk-toggleable__content {max-height: 200px;max-width: 100%;overflow: auto;}#sk-container-id-1 input.sk-toggleable__control:checked~label.sk-toggleable__label-arrow:before {content: \"▾\";}#sk-container-id-1 div.sk-estimator input.sk-toggleable__control:checked~label.sk-toggleable__label {background-color: #d4ebff;}#sk-container-id-1 div.sk-label input.sk-toggleable__control:checked~label.sk-toggleable__label {background-color: #d4ebff;}#sk-container-id-1 input.sk-hidden--visually {border: 0;clip: rect(1px 1px 1px 1px);clip: rect(1px, 1px, 1px, 1px);height: 1px;margin: -1px;overflow: hidden;padding: 0;position: absolute;width: 1px;}#sk-container-id-1 div.sk-estimator {font-family: monospace;background-color: #f0f8ff;border: 1px dotted black;border-radius: 0.25em;box-sizing: border-box;margin-bottom: 0.5em;}#sk-container-id-1 div.sk-estimator:hover {background-color: #d4ebff;}#sk-container-id-1 div.sk-parallel-item::after {content: \"\";width: 100%;border-bottom: 1px solid gray;flex-grow: 1;}#sk-container-id-1 div.sk-label:hover label.sk-toggleable__label {background-color: #d4ebff;}#sk-container-id-1 div.sk-serial::before {content: \"\";position: absolute;border-left: 1px solid gray;box-sizing: border-box;top: 0;bottom: 0;left: 50%;z-index: 0;}#sk-container-id-1 div.sk-serial {display: flex;flex-direction: column;align-items: center;background-color: white;padding-right: 0.2em;padding-left: 0.2em;position: relative;}#sk-container-id-1 div.sk-item {position: relative;z-index: 1;}#sk-container-id-1 div.sk-parallel {display: flex;align-items: stretch;justify-content: center;background-color: white;position: relative;}#sk-container-id-1 div.sk-item::before, #sk-container-id-1 div.sk-parallel-item::before {content: \"\";position: absolute;border-left: 1px solid gray;box-sizing: border-box;top: 0;bottom: 0;left: 50%;z-index: -1;}#sk-container-id-1 div.sk-parallel-item {display: flex;flex-direction: column;z-index: 1;position: relative;background-color: white;}#sk-container-id-1 div.sk-parallel-item:first-child::after {align-self: flex-end;width: 50%;}#sk-container-id-1 div.sk-parallel-item:last-child::after {align-self: flex-start;width: 50%;}#sk-container-id-1 div.sk-parallel-item:only-child::after {width: 0;}#sk-container-id-1 div.sk-dashed-wrapped {border: 1px dashed gray;margin: 0 0.4em 0.5em 0.4em;box-sizing: border-box;padding-bottom: 0.4em;background-color: white;}#sk-container-id-1 div.sk-label label {font-family: monospace;font-weight: bold;display: inline-block;line-height: 1.2em;}#sk-container-id-1 div.sk-label-container {text-align: center;}#sk-container-id-1 div.sk-container {/* jupyter's `normalize.less` sets `[hidden] { display: none; }` but bootstrap.min.css set `[hidden] { display: none !important; }` so we also need the `!important` here to be able to override the default hidden behavior on the sphinx rendered scikit-learn.org. See: https://github.com/scikit-learn/scikit-learn/issues/21755 */display: inline-block !important;position: relative;}#sk-container-id-1 div.sk-text-repr-fallback {display: none;}</style><div id=\"sk-container-id-1\" class=\"sk-top-container\"><div class=\"sk-text-repr-fallback\"><pre>LassoCV(cv=5)</pre><b>In a Jupyter environment, please rerun this cell to show the HTML representation or trust the notebook. <br />On GitHub, the HTML representation is unable to render, please try loading this page with nbviewer.org.</b></div><div class=\"sk-container\" hidden><div class=\"sk-item\"><div class=\"sk-estimator sk-toggleable\"><input class=\"sk-toggleable__control sk-hidden--visually\" id=\"sk-estimator-id-1\" type=\"checkbox\" checked><label for=\"sk-estimator-id-1\" class=\"sk-toggleable__label sk-toggleable__label-arrow\">LassoCV</label><div class=\"sk-toggleable__content\"><pre>LassoCV(cv=5)</pre></div></div></div></div></div>"
      ],
      "text/plain": [
       "LassoCV(cv=5)"
      ]
     },
     "execution_count": 7,
     "metadata": {},
     "output_type": "execute_result"
    }
   ],
   "source": [
    "# Create LassoCV model\n",
    "lasso_cv = LassoCV(cv=5)\n",
    "\n",
    "# Perform cross-validation\n",
    "lasso_cv.fit(X, y)"
   ]
  },
  {
   "cell_type": "code",
   "execution_count": 8,
   "metadata": {},
   "outputs": [
    {
     "name": "stdout",
     "output_type": "stream",
     "text": [
      "Intercept: 0.5953912252475335\n",
      "\n",
      "Selected features with coefficients:\n",
      "Age>30: 0.02083675185567725\n",
      "Female: 0.020536570962658613\n",
      "Antidepressant: 0.0944106610848428\n",
      "Weight Gain: 0.03679032005612803\n",
      "\n",
      "Minimum lambda (selected alpha): 0.0009883722112735917\n",
      "\n",
      "McFadden's R-squared: 0.012614535876050659\n"
     ]
    }
   ],
   "source": [
    "# Print the intercept\n",
    "print(\"Intercept:\", lasso_cv.intercept_)\n",
    "\n",
    "# Get selected features with abs value of coefficients greater than 0.05\n",
    "selected_features = [(feature, coef) for feature, coef in zip(X.columns, lasso_cv.coef_) if abs(coef) > 0.001]\n",
    "\n",
    "# Print selected feature names and coefficients\n",
    "print(\"\\nSelected features with coefficients:\")\n",
    "for feature, coef in selected_features:\n",
    "    print(f\"{feature}: {coef}\")\n",
    "\n",
    "# Print the minimum lambda value selected by LassoCV\n",
    "print(\"\\nMinimum lambda (selected alpha):\", lasso_cv.alpha_)\n",
    "\n",
    "# Calculate McFadden's R-squared\n",
    "# Get predicted probabilities\n",
    "y_pred = lasso_cv.predict(X)\n",
    "\n",
    "# Calculate log-likelihood of the model\n",
    "log_likelihood_model = -log_loss(y, y_pred)\n",
    "\n",
    "# Calculate log-likelihood of the null model\n",
    "null_model_probs = np.full_like(y_pred, y.mean())\n",
    "log_likelihood_null_model = -log_loss(y, null_model_probs)\n",
    "\n",
    "# Calculate McFadden's R-squared\n",
    "mcfadden_r2 = 1 - (log_likelihood_model / log_likelihood_null_model)\n",
    "\n",
    "print(\"\\nMcFadden's R-squared:\", mcfadden_r2)"
   ]
  },
  {
   "cell_type": "markdown",
   "metadata": {},
   "source": [
    "## Predictors for Age"
   ]
  },
  {
   "cell_type": "code",
   "execution_count": null,
   "metadata": {},
   "outputs": [],
   "source": [
    "# Since Age happened first, there is no regression for this. This will be a root node"
   ]
  },
  {
   "cell_type": "markdown",
   "metadata": {},
   "source": [
    "## Predictors for Gender"
   ]
  },
  {
   "cell_type": "code",
   "execution_count": null,
   "metadata": {},
   "outputs": [],
   "source": [
    "# y is Female\n",
    "y = df['Female']\n",
    "\n",
    "# Limit columns to those that proceed y\n",
    "X_cols = ['Age>30'\n",
    "          ]\n",
    "X = df[X_cols]\n",
    "\n",
    "# Create LassoCV model\n",
    "lasso_cv = LassoCV(cv=5)\n",
    "\n",
    "# Perform cross-validation\n",
    "lasso_cv.fit(X, y)\n",
    "\n",
    "# Print the intercept\n",
    "print(\"Intercept:\", lasso_cv.intercept_)\n",
    "\n",
    "# Get selected features with abs value of coefficients greater than 0.05\n",
    "selected_features = [(feature, coef) for feature, coef in zip(X.columns, lasso_cv.coef_) if abs(coef) > 0.01]\n",
    "\n",
    "# Print selected feature names and coefficients\n",
    "print(\"\\nSelected features with coefficients:\")\n",
    "for feature, coef in selected_features:\n",
    "    print(f\"{feature}: {coef}\")\n",
    "\n",
    "# Print the minimum lambda value selected by LassoCV\n",
    "print(\"\\nMinimum lambda (selected alpha):\", lasso_cv.alpha_)\n",
    "\n",
    "# Calculate McFadden's R-squared\n",
    "# Get predicted probabilities\n",
    "y_pred = lasso_cv.predict(X)\n",
    "\n",
    "# Calculate log-likelihood of the model\n",
    "log_likelihood_model = -log_loss(y, y_pred)\n",
    "\n",
    "# Calculate log-likelihood of the null model\n",
    "null_model_probs = np.full_like(y_pred, y.mean())\n",
    "log_likelihood_null_model = -log_loss(y, null_model_probs)\n",
    "\n",
    "# Calculate McFadden's R-squared\n",
    "mcfadden_r2 = 1 - (log_likelihood_model / log_likelihood_null_model)\n",
    "\n",
    "print(\"\\nMcFadden's R-squared:\", mcfadden_r2)"
   ]
  },
  {
   "cell_type": "markdown",
   "metadata": {},
   "source": [
    "# Predictors of Antidepressant"
   ]
  },
  {
   "cell_type": "code",
   "execution_count": null,
   "metadata": {},
   "outputs": [],
   "source": [
    "# y is Antidepressant\n",
    "y = df['Antidepressant']\n",
    "\n",
    "# Limit columns to those that proceed y\n",
    "X_cols = ['Age>30',\n",
    "          'Female',\n",
    "          'Psychosis'\n",
    "          ]\n",
    "X = df[X_cols]\n",
    "\n",
    "# Create LassoCV model\n",
    "lasso_cv = LassoCV(cv=5)\n",
    "\n",
    "# Perform cross-validation\n",
    "lasso_cv.fit(X, y)\n",
    "\n",
    "# Print the intercept\n",
    "print(\"Intercept:\", lasso_cv.intercept_)\n",
    "\n",
    "# Get selected features with abs value of coefficients greater than 0.05\n",
    "selected_features = [(feature, coef) for feature, coef in zip(X.columns, lasso_cv.coef_) if abs(coef) > 0.01]\n",
    "\n",
    "# Print selected feature names and coefficients\n",
    "print(\"\\nSelected features with coefficients:\")\n",
    "for feature, coef in selected_features:\n",
    "    print(f\"{feature}: {coef}\")\n",
    "\n",
    "# Print the minimum lambda value selected by LassoCV\n",
    "print(\"\\nMinimum lambda (selected alpha):\", lasso_cv.alpha_)\n",
    "\n",
    "# Calculate McFadden's R-squared\n",
    "# Get predicted probabilities\n",
    "y_pred = lasso_cv.predict(X)\n",
    "\n",
    "# Calculate log-likelihood of the model\n",
    "log_likelihood_model = -log_loss(y, y_pred)\n",
    "\n",
    "# Calculate log-likelihood of the null model\n",
    "null_model_probs = np.full_like(y_pred, y.mean())\n",
    "log_likelihood_null_model = -log_loss(y, null_model_probs)\n",
    "\n",
    "# Calculate McFadden's R-squared\n",
    "mcfadden_r2 = 1 - (log_likelihood_model / log_likelihood_null_model)\n",
    "\n",
    "print(\"\\nMcFadden's R-squared:\", mcfadden_r2)"
   ]
  },
  {
   "cell_type": "markdown",
   "metadata": {},
   "source": [
    "## Predictors for Weight Gain"
   ]
  },
  {
   "cell_type": "code",
   "execution_count": null,
   "metadata": {},
   "outputs": [],
   "source": [
    "# y is Weight Gain\n",
    "y = df['Weight Gain']\n",
    "\n",
    "# Limit columns to those that proceed y\n",
    "X_cols = ['Age>30',\n",
    "          'Female',\n",
    "          'Psychosis',\n",
    "          'Antidepressant'\n",
    "          ]\n",
    "X = df[X_cols]\n",
    "\n",
    "# Create LassoCV model\n",
    "lasso_cv = LassoCV(cv=5)\n",
    "\n",
    "# Perform cross-validation\n",
    "lasso_cv.fit(X, y)\n",
    "\n",
    "# Print the intercept\n",
    "print(\"Intercept:\", lasso_cv.intercept_)\n",
    "\n",
    "# Get selected features with abs value of coefficients greater than 0.05\n",
    "selected_features = [(feature, coef) for feature, coef in zip(X.columns, lasso_cv.coef_) if abs(coef) > 0.01]\n",
    "\n",
    "# Print selected feature names and coefficients\n",
    "print(\"\\nSelected features with coefficients:\")\n",
    "for feature, coef in selected_features:\n",
    "    print(f\"{feature}: {coef}\")\n",
    "\n",
    "# Print the minimum lambda value selected by LassoCV\n",
    "print(\"\\nMinimum lambda (selected alpha):\", lasso_cv.alpha_)\n",
    "\n",
    "# Calculate McFadden's R-squared\n",
    "# Get predicted probabilities\n",
    "y_pred = lasso_cv.predict(X)\n",
    "\n",
    "# Calculate log-likelihood of the model\n",
    "log_likelihood_model = -log_loss(y, y_pred)\n",
    "\n",
    "# Calculate log-likelihood of the null model\n",
    "null_model_probs = np.full_like(y_pred, y.mean())\n",
    "log_likelihood_null_model = -log_loss(y, null_model_probs)\n",
    "\n",
    "# Calculate McFadden's R-squared\n",
    "mcfadden_r2 = 1 - (log_likelihood_model / log_likelihood_null_model)\n",
    "\n",
    "print(\"\\nMcFadden's R-squared:\", mcfadden_r2)"
   ]
  },
  {
   "cell_type": "markdown",
   "metadata": {},
   "source": [
    "# Marginal Probabilities"
   ]
  },
  {
   "cell_type": "code",
   "execution_count": null,
   "metadata": {},
   "outputs": [],
   "source": [
    "# Age\n",
    "p_age = round(df['Age>30'].sum() / df.shape[0] * 100)\n",
    "print(f\"p_age: {p_age}\")\n",
    "\n",
    "# Gender\n",
    "p_gender = round(df['Female'].sum() / df.shape[0] * 100)\n",
    "print(f\"p_gender: {p_gender}\")"
   ]
  },
  {
   "cell_type": "markdown",
   "metadata": {},
   "source": [
    "# Counterfactual Model"
   ]
  },
  {
   "cell_type": "code",
   "execution_count": null,
   "metadata": {},
   "outputs": [],
   "source": [
    "# y is Weight Gain\n",
    "y = df['Weight Gain']\n",
    "\n",
    "# Limit columns to those that proceed y\n",
    "X_cols = ['Age>30',\n",
    "          'Female',\n",
    "          'Psychosis'\n",
    "          # 'Antidepressant' # removed\n",
    "          ]\n",
    "X = df[X_cols]\n",
    "\n",
    "# Create LassoCV model\n",
    "lasso_cv = LassoCV(cv=5)\n",
    "\n",
    "# Perform cross-validation\n",
    "lasso_cv.fit(X, y)\n",
    "\n",
    "# Print the intercept\n",
    "print(\"Intercept:\", lasso_cv.intercept_)\n",
    "\n",
    "# Get selected features with abs value of coefficients greater than 0.05\n",
    "selected_features = [(feature, coef) for feature, coef in zip(X.columns, lasso_cv.coef_) if abs(coef) > 0.01]\n",
    "\n",
    "# Print selected feature names and coefficients\n",
    "print(\"\\nSelected features with coefficients:\")\n",
    "for feature, coef in selected_features:\n",
    "    print(f\"{feature}: {coef}\")\n",
    "\n",
    "# Print the minimum lambda value selected by LassoCV\n",
    "print(\"\\nMinimum lambda (selected alpha):\", lasso_cv.alpha_)\n",
    "\n",
    "# Calculate McFadden's R-squared\n",
    "# Get predicted probabilities\n",
    "y_pred = lasso_cv.predict(X)\n",
    "\n",
    "# Calculate log-likelihood of the model\n",
    "log_likelihood_model = -log_loss(y, y_pred)\n",
    "\n",
    "# Calculate log-likelihood of the null model\n",
    "null_model_probs = np.full_like(y_pred, y.mean())\n",
    "log_likelihood_null_model = -log_loss(y, null_model_probs)\n",
    "\n",
    "# Calculate McFadden's R-squared\n",
    "mcfadden_r2 = 1 - (log_likelihood_model / log_likelihood_null_model)\n",
    "\n",
    "print(\"\\nMcFadden's R-squared:\", mcfadden_r2)"
   ]
  },
  {
   "cell_type": "markdown",
   "metadata": {},
   "source": [
    "# Try interaction pairs"
   ]
  },
  {
   "cell_type": "code",
   "execution_count": null,
   "metadata": {},
   "outputs": [],
   "source": [
    "# Create dependent variable\n",
    "y = df['Remission']\n",
    "\n",
    "# Create independent variables\n",
    "X = df.drop(columns=['Remission'])"
   ]
  },
  {
   "cell_type": "code",
   "execution_count": null,
   "metadata": {},
   "outputs": [],
   "source": [
    "# Pairwise and triplet variable performance and coefficients\n",
    "from sklearn.preprocessing import PolynomialFeatures\n",
    "\n",
    "poly = PolynomialFeatures(degree=2, include_bias=False)\n",
    "X_poly = poly.fit_transform(X)\n",
    "\n",
    "# Create LassoCV model\n",
    "lasso_cv = LassoCV(cv=5)\n",
    "\n",
    "# Perform cross-validation\n",
    "lasso_cv.fit(X_poly, y)\n",
    "\n",
    "# Print the intercept\n",
    "print(\"Intercept:\", lasso_cv.intercept_)\n",
    "\n",
    "# Get selected features with abs value of coefficients greater than 0.05\n",
    "selected_features = [(feature, coef) for feature, coef in zip(X.columns, lasso_cv.coef_) if abs(coef) > 0.01]\n",
    "\n",
    "# Print selected feature names and coefficients\n",
    "print(\"\\nSelected features with coefficients:\")\n",
    "for feature, coef in selected_features:\n",
    "    print(f\"{feature}: {coef}\")\n",
    "\n",
    "# Print the minimum lambda value selected by LassoCV\n",
    "print(\"\\nMinimum lambda (selected alpha):\", lasso_cv.alpha_)\n",
    "\n",
    "# Calculate McFadden's R-squared\n",
    "# Get predicted probabilities\n",
    "y_pred = lasso_cv.predict(X_poly)\n",
    "\n",
    "# Calculate log-likelihood of the model\n",
    "log_likelihood_model = -log_loss(y, y_pred)\n",
    "\n",
    "# Calculate log-likelihood of the null model\n",
    "null_model_probs = np.full_like(y_pred, y.mean())\n",
    "log_likelihood_null_model = -log_loss(y, null_model_probs)\n",
    "\n",
    "# Calculate McFadden's R-squared\n",
    "mcfadden_r2 = 1 - (log_likelihood_model / log_likelihood_null_model)\n",
    "\n",
    "print(\"\\nMcFadden's R-squared:\", mcfadden_r2)"
   ]
  },
  {
   "cell_type": "code",
   "execution_count": null,
   "metadata": {},
   "outputs": [],
   "source": [
    "# Note that adding interaction terms made the McFadden R2 lower"
   ]
  }
 ],
 "metadata": {
  "kernelspec": {
   "display_name": "Python 3 (ipykernel)",
   "language": "python",
   "name": "python3"
  },
  "language_info": {
   "codemirror_mode": {
    "name": "ipython",
    "version": 3
   },
   "file_extension": ".py",
   "mimetype": "text/x-python",
   "name": "python",
   "nbconvert_exporter": "python",
   "pygments_lexer": "ipython3",
   "version": "3.10.14"
  }
 },
 "nbformat": 4,
 "nbformat_minor": 4
}
