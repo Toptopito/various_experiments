{
 "cells": [
  {
   "cell_type": "markdown",
   "id": "d93e256f-8c1d-43e5-be91-8432e9301593",
   "metadata": {},
   "source": [
    "# Load the data"
   ]
  },
  {
   "cell_type": "code",
   "execution_count": 2,
   "id": "b0d391f1-e0bc-483e-9017-35349d8349b4",
   "metadata": {},
   "outputs": [
    {
     "data": {
      "text/html": [
       "<div>\n",
       "<style scoped>\n",
       "    .dataframe tbody tr th:only-of-type {\n",
       "        vertical-align: middle;\n",
       "    }\n",
       "\n",
       "    .dataframe tbody tr th {\n",
       "        vertical-align: top;\n",
       "    }\n",
       "\n",
       "    .dataframe thead th {\n",
       "        text-align: right;\n",
       "    }\n",
       "</style>\n",
       "<table border=\"1\" class=\"dataframe\">\n",
       "  <thead>\n",
       "    <tr style=\"text-align: right;\">\n",
       "      <th></th>\n",
       "      <th>race_Another single population</th>\n",
       "      <th>race_Asian</th>\n",
       "      <th>race_Black or African American</th>\n",
       "      <th>race_I prefer not to answer</th>\n",
       "      <th>race_More than one population</th>\n",
       "      <th>race_None Indicated</th>\n",
       "      <th>race_None of these</th>\n",
       "      <th>race_PMI: Skip</th>\n",
       "      <th>race_White</th>\n",
       "      <th>ethnicity_Hispanic or Latino</th>\n",
       "      <th>...</th>\n",
       "      <th>near_transit_Somewhat agree</th>\n",
       "      <th>near_transit_Somewhat disagree</th>\n",
       "      <th>near_transit_Strongly agree</th>\n",
       "      <th>near_transit_Strongly disagree</th>\n",
       "      <th>no_food_Never true</th>\n",
       "      <th>no_food_Often true</th>\n",
       "      <th>no_food_PMI: Skip</th>\n",
       "      <th>no_food_Sometimes true</th>\n",
       "      <th>age_at_first_diagnosis</th>\n",
       "      <th>No_remission</th>\n",
       "    </tr>\n",
       "  </thead>\n",
       "  <tbody>\n",
       "    <tr>\n",
       "      <th>0</th>\n",
       "      <td>0</td>\n",
       "      <td>0</td>\n",
       "      <td>0</td>\n",
       "      <td>0</td>\n",
       "      <td>0</td>\n",
       "      <td>0</td>\n",
       "      <td>0</td>\n",
       "      <td>1</td>\n",
       "      <td>0</td>\n",
       "      <td>0</td>\n",
       "      <td>...</td>\n",
       "      <td>0</td>\n",
       "      <td>0</td>\n",
       "      <td>0</td>\n",
       "      <td>0</td>\n",
       "      <td>1</td>\n",
       "      <td>0</td>\n",
       "      <td>0</td>\n",
       "      <td>0</td>\n",
       "      <td>0.662012</td>\n",
       "      <td>0</td>\n",
       "    </tr>\n",
       "    <tr>\n",
       "      <th>1</th>\n",
       "      <td>0</td>\n",
       "      <td>0</td>\n",
       "      <td>0</td>\n",
       "      <td>0</td>\n",
       "      <td>0</td>\n",
       "      <td>0</td>\n",
       "      <td>0</td>\n",
       "      <td>1</td>\n",
       "      <td>0</td>\n",
       "      <td>0</td>\n",
       "      <td>...</td>\n",
       "      <td>0</td>\n",
       "      <td>0</td>\n",
       "      <td>0</td>\n",
       "      <td>0</td>\n",
       "      <td>1</td>\n",
       "      <td>0</td>\n",
       "      <td>0</td>\n",
       "      <td>0</td>\n",
       "      <td>0.597481</td>\n",
       "      <td>0</td>\n",
       "    </tr>\n",
       "    <tr>\n",
       "      <th>2</th>\n",
       "      <td>0</td>\n",
       "      <td>0</td>\n",
       "      <td>0</td>\n",
       "      <td>0</td>\n",
       "      <td>0</td>\n",
       "      <td>0</td>\n",
       "      <td>0</td>\n",
       "      <td>1</td>\n",
       "      <td>0</td>\n",
       "      <td>0</td>\n",
       "      <td>...</td>\n",
       "      <td>0</td>\n",
       "      <td>0</td>\n",
       "      <td>0</td>\n",
       "      <td>0</td>\n",
       "      <td>1</td>\n",
       "      <td>0</td>\n",
       "      <td>0</td>\n",
       "      <td>0</td>\n",
       "      <td>0.524901</td>\n",
       "      <td>0</td>\n",
       "    </tr>\n",
       "    <tr>\n",
       "      <th>3</th>\n",
       "      <td>0</td>\n",
       "      <td>0</td>\n",
       "      <td>0</td>\n",
       "      <td>0</td>\n",
       "      <td>0</td>\n",
       "      <td>0</td>\n",
       "      <td>0</td>\n",
       "      <td>1</td>\n",
       "      <td>0</td>\n",
       "      <td>0</td>\n",
       "      <td>...</td>\n",
       "      <td>0</td>\n",
       "      <td>0</td>\n",
       "      <td>0</td>\n",
       "      <td>0</td>\n",
       "      <td>1</td>\n",
       "      <td>0</td>\n",
       "      <td>0</td>\n",
       "      <td>0</td>\n",
       "      <td>0.493333</td>\n",
       "      <td>1</td>\n",
       "    </tr>\n",
       "    <tr>\n",
       "      <th>4</th>\n",
       "      <td>0</td>\n",
       "      <td>0</td>\n",
       "      <td>0</td>\n",
       "      <td>0</td>\n",
       "      <td>0</td>\n",
       "      <td>0</td>\n",
       "      <td>0</td>\n",
       "      <td>1</td>\n",
       "      <td>0</td>\n",
       "      <td>0</td>\n",
       "      <td>...</td>\n",
       "      <td>0</td>\n",
       "      <td>0</td>\n",
       "      <td>0</td>\n",
       "      <td>0</td>\n",
       "      <td>1</td>\n",
       "      <td>0</td>\n",
       "      <td>0</td>\n",
       "      <td>0</td>\n",
       "      <td>0.559617</td>\n",
       "      <td>1</td>\n",
       "    </tr>\n",
       "  </tbody>\n",
       "</table>\n",
       "<p>5 rows × 247 columns</p>\n",
       "</div>"
      ],
      "text/plain": [
       "   race_Another single population  race_Asian  race_Black or African American  \\\n",
       "0                               0           0                               0   \n",
       "1                               0           0                               0   \n",
       "2                               0           0                               0   \n",
       "3                               0           0                               0   \n",
       "4                               0           0                               0   \n",
       "\n",
       "   race_I prefer not to answer  race_More than one population  \\\n",
       "0                            0                              0   \n",
       "1                            0                              0   \n",
       "2                            0                              0   \n",
       "3                            0                              0   \n",
       "4                            0                              0   \n",
       "\n",
       "   race_None Indicated  race_None of these  race_PMI: Skip  race_White  \\\n",
       "0                    0                   0               1           0   \n",
       "1                    0                   0               1           0   \n",
       "2                    0                   0               1           0   \n",
       "3                    0                   0               1           0   \n",
       "4                    0                   0               1           0   \n",
       "\n",
       "   ethnicity_Hispanic or Latino  ...  near_transit_Somewhat agree  \\\n",
       "0                             0  ...                            0   \n",
       "1                             0  ...                            0   \n",
       "2                             0  ...                            0   \n",
       "3                             0  ...                            0   \n",
       "4                             0  ...                            0   \n",
       "\n",
       "   near_transit_Somewhat disagree  near_transit_Strongly agree  \\\n",
       "0                               0                            0   \n",
       "1                               0                            0   \n",
       "2                               0                            0   \n",
       "3                               0                            0   \n",
       "4                               0                            0   \n",
       "\n",
       "   near_transit_Strongly disagree  no_food_Never true  no_food_Often true  \\\n",
       "0                               0                   1                   0   \n",
       "1                               0                   1                   0   \n",
       "2                               0                   1                   0   \n",
       "3                               0                   1                   0   \n",
       "4                               0                   1                   0   \n",
       "\n",
       "   no_food_PMI: Skip  no_food_Sometimes true  age_at_first_diagnosis  \\\n",
       "0                  0                       0                0.662012   \n",
       "1                  0                       0                0.597481   \n",
       "2                  0                       0                0.524901   \n",
       "3                  0                       0                0.493333   \n",
       "4                  0                       0                0.559617   \n",
       "\n",
       "   No_remission  \n",
       "0             0  \n",
       "1             0  \n",
       "2             0  \n",
       "3             1  \n",
       "4             1  \n",
       "\n",
       "[5 rows x 247 columns]"
      ]
     },
     "execution_count": 2,
     "metadata": {},
     "output_type": "execute_result"
    }
   ],
   "source": [
    "import pandas as pd\n",
    "\n",
    "df = pd.read_csv('./df_analysis_final.csv')\n",
    "\n",
    "# simple age normalization\n",
    "df['age_at_first_diagnosis'] = df['age_at_first_diagnosis'] / 100\n",
    "\n",
    "df.head()"
   ]
  },
  {
   "cell_type": "markdown",
   "id": "0d05a77e-6a12-41d1-8895-613e57f4f46a",
   "metadata": {},
   "source": [
    "# Create Folders"
   ]
  },
  {
   "cell_type": "code",
   "execution_count": 3,
   "id": "2546ded9-80b4-4a71-9382-b4699de0222e",
   "metadata": {},
   "outputs": [],
   "source": [
    "import os\n",
    "\n",
    "# create folders based on unique target values\n",
    "df['No_remission'] = df['No_remission'].astype(bool)\n",
    "target_values = df['No_remission'].unique()\n",
    "for value in target_values:\n",
    "    os.makedirs(f'test_data/{value}', exist_ok=True)"
   ]
  },
  {
   "cell_type": "markdown",
   "id": "c13da7a0-4376-46c5-9893-95b72eeef9ef",
   "metadata": {},
   "source": [
    "# Covert Rows to Images"
   ]
  },
  {
   "cell_type": "code",
   "execution_count": 4,
   "id": "1c4adb66-bc15-4a82-85fa-a345aee99de9",
   "metadata": {},
   "outputs": [],
   "source": [
    "import matplotlib.pyplot as plt\n",
    "import numpy as np\n",
    "\n",
    "testing = 0\n",
    "\n",
    "if testing:\n",
    "    df = df.sample(frac=0.1, random_state=42)  # random_state ensures reproducibility\n",
    "\n",
    "def save_image(row, target, index):\n",
    "    desired_shape = (28, 28)\n",
    "    num_elements_required = desired_shape[0] * desired_shape[1]\n",
    "    \n",
    "    data = row.values\n",
    "    num_elements = data.size\n",
    "\n",
    "    # Convert data to float\n",
    "    data = data.astype(float)\n",
    "\n",
    "    if num_elements < num_elements_required:\n",
    "        padded_data = np.pad(data, (0, num_elements_required - num_elements), mode='constant')\n",
    "    else:\n",
    "        padded_data = data[:num_elements_required] # truncate if more elements than needed\n",
    "\n",
    "    reshaped_data = padded_data.reshape(desired_shape)\n",
    "\n",
    "    fig, ax = plt.subplots()\n",
    "    ax.imshow(reshaped_data, cmap='bwr')\n",
    "    ax.axis('off')\n",
    "    plt.savefig(f'test_data/{target}/{index}.png', bbox_inches='tight', pad_inches=0)\n",
    "    plt.close(fig)\n",
    "\n",
    "for idx, row in df.iterrows():\n",
    "    target = row['No_remission']\n",
    "    features = row.drop('No_remission')\n",
    "    save_image(features, target, idx)\n",
    "    "
   ]
  },
  {
   "cell_type": "markdown",
   "id": "5ec205a4-a6a2-472c-b239-1681f3d9725b",
   "metadata": {},
   "source": [
    "# Train ResNet Model"
   ]
  },
  {
   "cell_type": "code",
   "execution_count": 5,
   "id": "0ff21de4-fd3c-4918-8c91-0b3619cb27af",
   "metadata": {},
   "outputs": [
    {
     "data": {
      "text/plain": [
       "0"
      ]
     },
     "execution_count": 5,
     "metadata": {},
     "output_type": "execute_result"
    }
   ],
   "source": [
    "from fastai.vision.all import *\n",
    "\n",
    "path = Path('test_data')\n",
    "\n",
    "failed = verify_images(get_image_files(path))\n",
    "failed.map(Path.unlink)\n",
    "len(failed)"
   ]
  },
  {
   "cell_type": "code",
   "execution_count": 6,
   "id": "447da389-9d61-41b2-93f7-1125d5f52dd5",
   "metadata": {},
   "outputs": [
    {
     "data": {
      "image/png": "[encoded data removed]",
      "text/plain": [
       "<Figure size 900x600 with 6 Axes>"
      ]
     },
     "metadata": {},
     "output_type": "display_data"
    }
   ],
   "source": [
    "dls = DataBlock(\n",
    "    blocks=(ImageBlock, CategoryBlock),\n",
    "    get_items=get_image_files,\n",
    "    splitter=RandomSplitter(valid_pct=0.2, seed=42),\n",
    "    get_y=parent_label,\n",
    "    item_tfms=[Resize(192, method='pad')]\n",
    ").dataloaders(path, bs=32)\n",
    "\n",
    "dls.show_batch(max_n=6)"
   ]
  },
  {
   "cell_type": "code",
   "execution_count": 7,
   "id": "dac8045f-b48e-465b-ac57-5f1a3057c2ba",
   "metadata": {},
   "outputs": [
    {
     "data": {
      "text/html": [
       "\n",
       "<style>\n",
       "    /* Turns off some styling */\n",
       "    progress {\n",
       "        /* gets rid of default border in Firefox and Opera. */\n",
       "        border: none;\n",
       "        /* Needs to be in here for Safari polyfill so background images work as expected. */\n",
       "        background-size: auto;\n",
       "    }\n",
       "    progress:not([value]), progress:not([value])::-webkit-progress-bar {\n",
       "        background: repeating-linear-gradient(45deg, #7e7e7e, #7e7e7e 10px, #5c5c5c 10px, #5c5c5c 20px);\n",
       "    }\n",
       "    .progress-bar-interrupted, .progress-bar-interrupted::-webkit-progress-bar {\n",
       "        background: #F44336;\n",
       "    }\n",
       "</style>\n"
      ],
      "text/plain": [
       "<IPython.core.display.HTML object>"
      ]
     },
     "metadata": {},
     "output_type": "display_data"
    },
    {
     "data": {
      "text/html": [
       "<table border=\"1\" class=\"dataframe\">\n",
       "  <thead>\n",
       "    <tr style=\"text-align: left;\">\n",
       "      <th>epoch</th>\n",
       "      <th>train_loss</th>\n",
       "      <th>valid_loss</th>\n",
       "      <th>error_rate</th>\n",
       "      <th>time</th>\n",
       "    </tr>\n",
       "  </thead>\n",
       "  <tbody>\n",
       "    <tr>\n",
       "      <td>0</td>\n",
       "      <td>1.201321</td>\n",
       "      <td>1.049041</td>\n",
       "      <td>0.438272</td>\n",
       "      <td>01:09</td>\n",
       "    </tr>\n",
       "  </tbody>\n",
       "</table>"
      ],
      "text/plain": [
       "<IPython.core.display.HTML object>"
      ]
     },
     "metadata": {},
     "output_type": "display_data"
    },
    {
     "data": {
      "text/html": [
       "\n",
       "<style>\n",
       "    /* Turns off some styling */\n",
       "    progress {\n",
       "        /* gets rid of default border in Firefox and Opera. */\n",
       "        border: none;\n",
       "        /* Needs to be in here for Safari polyfill so background images work as expected. */\n",
       "        background-size: auto;\n",
       "    }\n",
       "    progress:not([value]), progress:not([value])::-webkit-progress-bar {\n",
       "        background: repeating-linear-gradient(45deg, #7e7e7e, #7e7e7e 10px, #5c5c5c 10px, #5c5c5c 20px);\n",
       "    }\n",
       "    .progress-bar-interrupted, .progress-bar-interrupted::-webkit-progress-bar {\n",
       "        background: #F44336;\n",
       "    }\n",
       "</style>\n"
      ],
      "text/plain": [
       "<IPython.core.display.HTML object>"
      ]
     },
     "metadata": {},
     "output_type": "display_data"
    },
    {
     "data": {
      "text/html": [
       "<table border=\"1\" class=\"dataframe\">\n",
       "  <thead>\n",
       "    <tr style=\"text-align: left;\">\n",
       "      <th>epoch</th>\n",
       "      <th>train_loss</th>\n",
       "      <th>valid_loss</th>\n",
       "      <th>error_rate</th>\n",
       "      <th>time</th>\n",
       "    </tr>\n",
       "  </thead>\n",
       "  <tbody>\n",
       "    <tr>\n",
       "      <td>0</td>\n",
       "      <td>0.954695</td>\n",
       "      <td>0.777743</td>\n",
       "      <td>0.361111</td>\n",
       "      <td>01:33</td>\n",
       "    </tr>\n",
       "    <tr>\n",
       "      <td>1</td>\n",
       "      <td>0.829725</td>\n",
       "      <td>0.915030</td>\n",
       "      <td>0.277778</td>\n",
       "      <td>01:41</td>\n",
       "    </tr>\n",
       "    <tr>\n",
       "      <td>2</td>\n",
       "      <td>0.676088</td>\n",
       "      <td>0.886750</td>\n",
       "      <td>0.308642</td>\n",
       "      <td>01:34</td>\n",
       "    </tr>\n",
       "    <tr>\n",
       "      <td>3</td>\n",
       "      <td>0.503555</td>\n",
       "      <td>0.823135</td>\n",
       "      <td>0.299383</td>\n",
       "      <td>01:34</td>\n",
       "    </tr>\n",
       "    <tr>\n",
       "      <td>4</td>\n",
       "      <td>0.355098</td>\n",
       "      <td>0.836558</td>\n",
       "      <td>0.299383</td>\n",
       "      <td>01:34</td>\n",
       "    </tr>\n",
       "  </tbody>\n",
       "</table>"
      ],
      "text/plain": [
       "<IPython.core.display.HTML object>"
      ]
     },
     "metadata": {},
     "output_type": "display_data"
    }
   ],
   "source": [
    "learn = vision_learner(dls, resnet18, metrics=error_rate)\n",
    "learn.fine_tune(5)"
   ]
  },
  {
   "cell_type": "code",
   "execution_count": 8,
   "id": "f359537c-5a02-4841-a2e4-c5e93cbb57df",
   "metadata": {},
   "outputs": [
    {
     "name": "stderr",
     "output_type": "stream",
     "text": [
      "Downloading: \"https://download.pytorch.org/models/resnet34-b627a593.pth\" to C:\\Users\\vladc/.cache\\torch\\hub\\checkpoints\\resnet34-b627a593.pth\n",
      "100%|█████████████████████████████████████████████████████████████████████████████| 83.3M/83.3M [00:02<00:00, 39.4MB/s]\n"
     ]
    },
    {
     "data": {
      "text/html": [
       "\n",
       "<style>\n",
       "    /* Turns off some styling */\n",
       "    progress {\n",
       "        /* gets rid of default border in Firefox and Opera. */\n",
       "        border: none;\n",
       "        /* Needs to be in here for Safari polyfill so background images work as expected. */\n",
       "        background-size: auto;\n",
       "    }\n",
       "    progress:not([value]), progress:not([value])::-webkit-progress-bar {\n",
       "        background: repeating-linear-gradient(45deg, #7e7e7e, #7e7e7e 10px, #5c5c5c 10px, #5c5c5c 20px);\n",
       "    }\n",
       "    .progress-bar-interrupted, .progress-bar-interrupted::-webkit-progress-bar {\n",
       "        background: #F44336;\n",
       "    }\n",
       "</style>\n"
      ],
      "text/plain": [
       "<IPython.core.display.HTML object>"
      ]
     },
     "metadata": {},
     "output_type": "display_data"
    },
    {
     "data": {
      "text/html": [
       "<table border=\"1\" class=\"dataframe\">\n",
       "  <thead>\n",
       "    <tr style=\"text-align: left;\">\n",
       "      <th>epoch</th>\n",
       "      <th>train_loss</th>\n",
       "      <th>valid_loss</th>\n",
       "      <th>error_rate</th>\n",
       "      <th>time</th>\n",
       "    </tr>\n",
       "  </thead>\n",
       "  <tbody>\n",
       "    <tr>\n",
       "      <td>0</td>\n",
       "      <td>1.179445</td>\n",
       "      <td>0.988613</td>\n",
       "      <td>0.373457</td>\n",
       "      <td>02:01</td>\n",
       "    </tr>\n",
       "  </tbody>\n",
       "</table>"
      ],
      "text/plain": [
       "<IPython.core.display.HTML object>"
      ]
     },
     "metadata": {},
     "output_type": "display_data"
    },
    {
     "data": {
      "text/html": [
       "\n",
       "<style>\n",
       "    /* Turns off some styling */\n",
       "    progress {\n",
       "        /* gets rid of default border in Firefox and Opera. */\n",
       "        border: none;\n",
       "        /* Needs to be in here for Safari polyfill so background images work as expected. */\n",
       "        background-size: auto;\n",
       "    }\n",
       "    progress:not([value]), progress:not([value])::-webkit-progress-bar {\n",
       "        background: repeating-linear-gradient(45deg, #7e7e7e, #7e7e7e 10px, #5c5c5c 10px, #5c5c5c 20px);\n",
       "    }\n",
       "    .progress-bar-interrupted, .progress-bar-interrupted::-webkit-progress-bar {\n",
       "        background: #F44336;\n",
       "    }\n",
       "</style>\n"
      ],
      "text/plain": [
       "<IPython.core.display.HTML object>"
      ]
     },
     "metadata": {},
     "output_type": "display_data"
    },
    {
     "data": {
      "text/html": [
       "<table border=\"1\" class=\"dataframe\">\n",
       "  <thead>\n",
       "    <tr style=\"text-align: left;\">\n",
       "      <th>epoch</th>\n",
       "      <th>train_loss</th>\n",
       "      <th>valid_loss</th>\n",
       "      <th>error_rate</th>\n",
       "      <th>time</th>\n",
       "    </tr>\n",
       "  </thead>\n",
       "  <tbody>\n",
       "    <tr>\n",
       "      <td>0</td>\n",
       "      <td>0.903193</td>\n",
       "      <td>1.021419</td>\n",
       "      <td>0.453704</td>\n",
       "      <td>02:36</td>\n",
       "    </tr>\n",
       "    <tr>\n",
       "      <td>1</td>\n",
       "      <td>0.873301</td>\n",
       "      <td>0.869628</td>\n",
       "      <td>0.336420</td>\n",
       "      <td>02:53</td>\n",
       "    </tr>\n",
       "    <tr>\n",
       "      <td>2</td>\n",
       "      <td>0.770053</td>\n",
       "      <td>0.790538</td>\n",
       "      <td>0.314815</td>\n",
       "      <td>02:45</td>\n",
       "    </tr>\n",
       "    <tr>\n",
       "      <td>3</td>\n",
       "      <td>0.607110</td>\n",
       "      <td>0.828358</td>\n",
       "      <td>0.339506</td>\n",
       "      <td>02:53</td>\n",
       "    </tr>\n",
       "    <tr>\n",
       "      <td>4</td>\n",
       "      <td>0.425301</td>\n",
       "      <td>0.802423</td>\n",
       "      <td>0.324074</td>\n",
       "      <td>02:44</td>\n",
       "    </tr>\n",
       "  </tbody>\n",
       "</table>"
      ],
      "text/plain": [
       "<IPython.core.display.HTML object>"
      ]
     },
     "metadata": {},
     "output_type": "display_data"
    }
   ],
   "source": [
    "learn = vision_learner(dls, resnet34, metrics=error_rate)\n",
    "learn.fine_tune(5)"
   ]
  },
  {
   "cell_type": "markdown",
   "id": "41fb0b9e-ee35-40ed-bcd4-4b8c0bca0bb5",
   "metadata": {},
   "source": [
    "# Compare to Tabular Deep Learning"
   ]
  },
  {
   "cell_type": "code",
   "execution_count": 4,
   "id": "a895d039-8fff-4aac-89be-9092c817ca67",
   "metadata": {},
   "outputs": [],
   "source": [
    "from fastai.tabular.all import *\n",
    "\n",
    "# all columns\n",
    "all_columns = df.columns.tolist()\n",
    "\n",
    "# get target column\n",
    "target_col = 'No_remission'\n",
    "\n",
    "# get input columns\n",
    "input_cols = [col for col in all_columns if col != target_col]\n",
    "\n",
    "# get continuous variables\n",
    "cont_cols = ['age_at_first_diagnosis']\n",
    "\n",
    "# get categorical variables\n",
    "cat_cols = [col for col in input_cols if col not in cont_cols]\n",
    "\n",
    "dls = TabularDataLoaders.from_df(\n",
    "    df = df,\n",
    "    y_names = target_col,\n",
    "    cat_names = cat_cols,\n",
    "    cont_names = cont_cols,\n",
    "    procs = [Categorify, FillMissing, Normalize]\n",
    ")\n",
    "\n",
    "learn = tabular_learner(dls, metrics=accuracy)"
   ]
  },
  {
   "cell_type": "code",
   "execution_count": 5,
   "id": "c8c6f367-9c27-4fd9-bdbe-51fbcf9973c0",
   "metadata": {},
   "outputs": [
    {
     "data": {
      "text/html": [
       "\n",
       "<style>\n",
       "    /* Turns off some styling */\n",
       "    progress {\n",
       "        /* gets rid of default border in Firefox and Opera. */\n",
       "        border: none;\n",
       "        /* Needs to be in here for Safari polyfill so background images work as expected. */\n",
       "        background-size: auto;\n",
       "    }\n",
       "    progress:not([value]), progress:not([value])::-webkit-progress-bar {\n",
       "        background: repeating-linear-gradient(45deg, #7e7e7e, #7e7e7e 10px, #5c5c5c 10px, #5c5c5c 20px);\n",
       "    }\n",
       "    .progress-bar-interrupted, .progress-bar-interrupted::-webkit-progress-bar {\n",
       "        background: #F44336;\n",
       "    }\n",
       "</style>\n"
      ],
      "text/plain": [
       "<IPython.core.display.HTML object>"
      ]
     },
     "metadata": {},
     "output_type": "display_data"
    },
    {
     "data": {
      "text/html": [
       "<table border=\"1\" class=\"dataframe\">\n",
       "  <thead>\n",
       "    <tr style=\"text-align: left;\">\n",
       "      <th>epoch</th>\n",
       "      <th>train_loss</th>\n",
       "      <th>valid_loss</th>\n",
       "      <th>accuracy</th>\n",
       "      <th>time</th>\n",
       "    </tr>\n",
       "  </thead>\n",
       "  <tbody>\n",
       "    <tr>\n",
       "      <td>0</td>\n",
       "      <td>0.264439</td>\n",
       "      <td>0.316824</td>\n",
       "      <td>0.750000</td>\n",
       "      <td>00:01</td>\n",
       "    </tr>\n",
       "    <tr>\n",
       "      <td>1</td>\n",
       "      <td>0.221187</td>\n",
       "      <td>0.312032</td>\n",
       "      <td>0.750000</td>\n",
       "      <td>00:01</td>\n",
       "    </tr>\n",
       "    <tr>\n",
       "      <td>2</td>\n",
       "      <td>0.197847</td>\n",
       "      <td>0.261511</td>\n",
       "      <td>0.750000</td>\n",
       "      <td>00:02</td>\n",
       "    </tr>\n",
       "    <tr>\n",
       "      <td>3</td>\n",
       "      <td>0.176538</td>\n",
       "      <td>0.186113</td>\n",
       "      <td>0.750000</td>\n",
       "      <td>00:02</td>\n",
       "    </tr>\n",
       "    <tr>\n",
       "      <td>4</td>\n",
       "      <td>0.169886</td>\n",
       "      <td>0.179572</td>\n",
       "      <td>0.750000</td>\n",
       "      <td>00:02</td>\n",
       "    </tr>\n",
       "  </tbody>\n",
       "</table>"
      ],
      "text/plain": [
       "<IPython.core.display.HTML object>"
      ]
     },
     "metadata": {},
     "output_type": "display_data"
    }
   ],
   "source": [
    "learn.fit_one_cycle(5)"
   ]
  },
  {
   "cell_type": "code",
   "execution_count": null,
   "id": "f54c6119-f5ba-4a07-8dd7-5362f45890c6",
   "metadata": {},
   "outputs": [],
   "source": []
  }
 ],
 "metadata": {
  "kernelspec": {
   "display_name": "Python 3 (ipykernel)",
   "language": "python",
   "name": "python3"
  },
  "language_info": {
   "codemirror_mode": {
    "name": "ipython",
    "version": 3
   },
   "file_extension": ".py",
   "mimetype": "text/x-python",
   "name": "python",
   "nbconvert_exporter": "python",
   "pygments_lexer": "ipython3",
   "version": "3.12.4"
  }
 },
 "nbformat": 4,
 "nbformat_minor": 5
}
