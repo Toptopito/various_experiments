{
 "cells": [
  {
   "cell_type": "code",
   "execution_count": 94,
   "id": "0ef348fe-8253-4b0e-864e-55634b90fa01",
   "metadata": {},
   "outputs": [],
   "source": [
    "# Test codes for data analysis of the hospital price transparency dataset\n",
    "\n",
    "# import required libraries\n",
    "import pandas as pd\n",
    "import matplotlib.pyplot as plt\n",
    "#%matplotlib inline #valid only for Jupyter notebooks\n",
    "import seaborn as sns\n",
    "pd.Series.__unicode__ = pd.Series.to_string\n",
    "\n",
    "# read dataset\n",
    "hospital_prices_file_path = \"C:/Users/vladc/OneDrive/Documents/Project Legacy/hospital_prices.csv\"\n",
    "\n",
    "hospital_prices = pd.read_csv(hospital_prices_file_path, low_memory=False, nrows=100000)"
   ]
  },
  {
   "cell_type": "code",
   "execution_count": 95,
   "id": "d8df4d55-8c7d-4fc3-bf6e-1f28a61bd45a",
   "metadata": {},
   "outputs": [
    {
     "data": {
      "text/html": [
       "<div>\n",
       "<style scoped>\n",
       "    .dataframe tbody tr th:only-of-type {\n",
       "        vertical-align: middle;\n",
       "    }\n",
       "\n",
       "    .dataframe tbody tr th {\n",
       "        vertical-align: top;\n",
       "    }\n",
       "\n",
       "    .dataframe thead th {\n",
       "        text-align: right;\n",
       "    }\n",
       "</style>\n",
       "<table border=\"1\" class=\"dataframe\">\n",
       "  <thead>\n",
       "    <tr style=\"text-align: right;\">\n",
       "      <th></th>\n",
       "      <th>cms_certification_num</th>\n",
       "      <th>units</th>\n",
       "      <th>price</th>\n",
       "    </tr>\n",
       "  </thead>\n",
       "  <tbody>\n",
       "    <tr>\n",
       "      <th>count</th>\n",
       "      <td>100000.0</td>\n",
       "      <td>0.0</td>\n",
       "      <td>100000.000000</td>\n",
       "    </tr>\n",
       "    <tr>\n",
       "      <th>mean</th>\n",
       "      <td>10001.0</td>\n",
       "      <td>NaN</td>\n",
       "      <td>7870.533904</td>\n",
       "    </tr>\n",
       "    <tr>\n",
       "      <th>std</th>\n",
       "      <td>0.0</td>\n",
       "      <td>NaN</td>\n",
       "      <td>25357.245586</td>\n",
       "    </tr>\n",
       "    <tr>\n",
       "      <th>min</th>\n",
       "      <td>10001.0</td>\n",
       "      <td>NaN</td>\n",
       "      <td>0.000000</td>\n",
       "    </tr>\n",
       "    <tr>\n",
       "      <th>25%</th>\n",
       "      <td>10001.0</td>\n",
       "      <td>NaN</td>\n",
       "      <td>142.160000</td>\n",
       "    </tr>\n",
       "    <tr>\n",
       "      <th>50%</th>\n",
       "      <td>10001.0</td>\n",
       "      <td>NaN</td>\n",
       "      <td>701.250000</td>\n",
       "    </tr>\n",
       "    <tr>\n",
       "      <th>75%</th>\n",
       "      <td>10001.0</td>\n",
       "      <td>NaN</td>\n",
       "      <td>3657.500000</td>\n",
       "    </tr>\n",
       "    <tr>\n",
       "      <th>max</th>\n",
       "      <td>10001.0</td>\n",
       "      <td>NaN</td>\n",
       "      <td>540518.510000</td>\n",
       "    </tr>\n",
       "  </tbody>\n",
       "</table>\n",
       "</div>"
      ],
      "text/plain": [
       "       cms_certification_num  units          price\n",
       "count               100000.0    0.0  100000.000000\n",
       "mean                 10001.0    NaN    7870.533904\n",
       "std                      0.0    NaN   25357.245586\n",
       "min                  10001.0    NaN       0.000000\n",
       "25%                  10001.0    NaN     142.160000\n",
       "50%                  10001.0    NaN     701.250000\n",
       "75%                  10001.0    NaN    3657.500000\n",
       "max                  10001.0    NaN  540518.510000"
      ]
     },
     "execution_count": 95,
     "metadata": {},
     "output_type": "execute_result"
    }
   ],
   "source": [
    "hospital_prices.describe()"
   ]
  },
  {
   "cell_type": "code",
   "execution_count": 96,
   "id": "edeaece3-4090-4ca7-9269-24ba5280e6e0",
   "metadata": {},
   "outputs": [
    {
     "data": {
      "text/html": [
       "<div>\n",
       "<style scoped>\n",
       "    .dataframe tbody tr th:only-of-type {\n",
       "        vertical-align: middle;\n",
       "    }\n",
       "\n",
       "    .dataframe tbody tr th {\n",
       "        vertical-align: top;\n",
       "    }\n",
       "\n",
       "    .dataframe thead th {\n",
       "        text-align: right;\n",
       "    }\n",
       "</style>\n",
       "<table border=\"1\" class=\"dataframe\">\n",
       "  <thead>\n",
       "    <tr style=\"text-align: right;\">\n",
       "      <th></th>\n",
       "      <th>cms_certification_num</th>\n",
       "      <th>payer</th>\n",
       "      <th>code</th>\n",
       "      <th>internal_revenue_code</th>\n",
       "      <th>units</th>\n",
       "      <th>description</th>\n",
       "      <th>inpatient_outpatient</th>\n",
       "      <th>price</th>\n",
       "      <th>code_disambiguator</th>\n",
       "    </tr>\n",
       "  </thead>\n",
       "  <tbody>\n",
       "    <tr>\n",
       "      <th>0</th>\n",
       "      <td>10001</td>\n",
       "      <td>AMERIGROUP MEDICAID [350002]</td>\n",
       "      <td>100</td>\n",
       "      <td>MS100</td>\n",
       "      <td>NaN</td>\n",
       "      <td>SEIZURES WITH MCC</td>\n",
       "      <td>UNSPECIFIED</td>\n",
       "      <td>26744.41</td>\n",
       "      <td>NONE</td>\n",
       "    </tr>\n",
       "    <tr>\n",
       "      <th>1</th>\n",
       "      <td>10001</td>\n",
       "      <td>BLUE ADVANTAGE [308003]</td>\n",
       "      <td>100</td>\n",
       "      <td>MS100</td>\n",
       "      <td>NaN</td>\n",
       "      <td>SEIZURES WITH MCC</td>\n",
       "      <td>UNSPECIFIED</td>\n",
       "      <td>26744.41</td>\n",
       "      <td>NONE</td>\n",
       "    </tr>\n",
       "    <tr>\n",
       "      <th>2</th>\n",
       "      <td>10001</td>\n",
       "      <td>BLUE CROSS OF ALA [200001]</td>\n",
       "      <td>100</td>\n",
       "      <td>MS100</td>\n",
       "      <td>NaN</td>\n",
       "      <td>SEIZURES WITH MCC</td>\n",
       "      <td>UNSPECIFIED</td>\n",
       "      <td>26744.41</td>\n",
       "      <td>NONE</td>\n",
       "    </tr>\n",
       "    <tr>\n",
       "      <th>3</th>\n",
       "      <td>10001</td>\n",
       "      <td>CARESOURCE [100121]</td>\n",
       "      <td>100</td>\n",
       "      <td>MS100</td>\n",
       "      <td>NaN</td>\n",
       "      <td>SEIZURES WITH MCC</td>\n",
       "      <td>UNSPECIFIED</td>\n",
       "      <td>26744.41</td>\n",
       "      <td>NONE</td>\n",
       "    </tr>\n",
       "    <tr>\n",
       "      <th>4</th>\n",
       "      <td>10001</td>\n",
       "      <td>CONNECTICUT GENERAL [100009]</td>\n",
       "      <td>100</td>\n",
       "      <td>MS100</td>\n",
       "      <td>NaN</td>\n",
       "      <td>SEIZURES WITH MCC</td>\n",
       "      <td>UNSPECIFIED</td>\n",
       "      <td>26744.41</td>\n",
       "      <td>NONE</td>\n",
       "    </tr>\n",
       "  </tbody>\n",
       "</table>\n",
       "</div>"
      ],
      "text/plain": [
       "   cms_certification_num                         payer code  \\\n",
       "0                  10001  AMERIGROUP MEDICAID [350002]  100   \n",
       "1                  10001       BLUE ADVANTAGE [308003]  100   \n",
       "2                  10001    BLUE CROSS OF ALA [200001]  100   \n",
       "3                  10001           CARESOURCE [100121]  100   \n",
       "4                  10001  CONNECTICUT GENERAL [100009]  100   \n",
       "\n",
       "  internal_revenue_code  units        description inpatient_outpatient  \\\n",
       "0                 MS100    NaN  SEIZURES WITH MCC          UNSPECIFIED   \n",
       "1                 MS100    NaN  SEIZURES WITH MCC          UNSPECIFIED   \n",
       "2                 MS100    NaN  SEIZURES WITH MCC          UNSPECIFIED   \n",
       "3                 MS100    NaN  SEIZURES WITH MCC          UNSPECIFIED   \n",
       "4                 MS100    NaN  SEIZURES WITH MCC          UNSPECIFIED   \n",
       "\n",
       "      price code_disambiguator  \n",
       "0  26744.41               NONE  \n",
       "1  26744.41               NONE  \n",
       "2  26744.41               NONE  \n",
       "3  26744.41               NONE  \n",
       "4  26744.41               NONE  "
      ]
     },
     "execution_count": 96,
     "metadata": {},
     "output_type": "execute_result"
    }
   ],
   "source": [
    "hospital_prices.head()"
   ]
  },
  {
   "cell_type": "code",
   "execution_count": 97,
   "id": "23547956-2051-4408-81ff-15f1c3853257",
   "metadata": {},
   "outputs": [
    {
     "data": {
      "text/plain": [
       "Index(['cms_certification_num', 'payer', 'code', 'internal_revenue_code',\n",
       "       'units', 'description', 'inpatient_outpatient', 'price',\n",
       "       'code_disambiguator'],\n",
       "      dtype='object')"
      ]
     },
     "execution_count": 97,
     "metadata": {},
     "output_type": "execute_result"
    }
   ],
   "source": [
    "hospital_prices.columns"
   ]
  },
  {
   "cell_type": "code",
   "execution_count": 98,
   "id": "fe51895a-ddf0-4500-ab47-3f11d92072b1",
   "metadata": {},
   "outputs": [
    {
     "data": {
      "text/plain": [
       "VIVA HEALTH INC [308017]          6005\n",
       "CONNECTICUT GENERAL [100009]      6005\n",
       "AMERIGROUP MEDICAID [350002]      5866\n",
       "MEDICARE AETNA [450001]           5866\n",
       "WELLCARE GA MEDICAID [308019]     5866\n",
       "UNITED HEALTHCARE [100060]        5866\n",
       "PEACH STATE HLTH PLAN [308012]    5866\n",
       "NAPHCARE [308024]                 5866\n",
       "MEDICARE VIVAHEALTH [308009]      5866\n",
       "HUMANA [100052]                   5866\n",
       "BLUE ADVANTAGE [308003]           5866\n",
       "HUMANA GOLD CHOICE [450013]       5866\n",
       "GEHA [100039]                     5866\n",
       "FIRST HEALTH [308007]             5866\n",
       "CARESOURCE [100121]               5866\n",
       "BLUE CROSS OF ALA [200001]        5866\n",
       "WELLCARE MEDICARE [450023]        5866\n",
       "Name: payer, dtype: int64"
      ]
     },
     "execution_count": 98,
     "metadata": {},
     "output_type": "execute_result"
    }
   ],
   "source": [
    "hospital_prices['payer'].value_counts()"
   ]
  },
  {
   "cell_type": "code",
   "execution_count": 99,
   "id": "45f10bdc-56ae-4717-9264-146bcee78f69",
   "metadata": {},
   "outputs": [
    {
     "name": "stdout",
     "output_type": "stream",
     "text": [
      "{'CASH CHARGE', 'GROSS CHARGE', 'MAX', 'MIN', 'CASH PRICE'}\n"
     ]
    }
   ],
   "source": [
    "drop_payers = {'CASH CHARGE', 'MAX', 'MIN', 'GROSS CHARGE', 'CASH PRICE'}\n",
    "payers = set()\n",
    "for payer in hospital_prices['payer']:\n",
    "    payers.add(payer)\n",
    "    if \"OTHER\" in payer:\n",
    "               drop_payers.add(payer)\n",
    "print(drop_payers)"
   ]
  },
  {
   "cell_type": "code",
   "execution_count": 100,
   "id": "da33f6d3-cfd2-4310-957e-d73a739c5124",
   "metadata": {},
   "outputs": [
    {
     "name": "stdout",
     "output_type": "stream",
     "text": [
      "{'CONNECTICUT GENERAL [100009]', 'BLUE ADVANTAGE [308003]', 'WELLCARE MEDICARE [450023]', 'UNITED HEALTHCARE [100060]', 'BLUE CROSS OF ALA [200001]', 'AMERIGROUP MEDICAID [350002]', 'MEDICARE AETNA [450001]', 'GEHA [100039]', 'WELLCARE GA MEDICAID [308019]', 'FIRST HEALTH [308007]', 'HUMANA GOLD CHOICE [450013]', 'HUMANA [100052]', 'CARESOURCE [100121]', 'NAPHCARE [308024]', 'MEDICARE VIVAHEALTH [308009]', 'PEACH STATE HLTH PLAN [308012]', 'VIVA HEALTH INC [308017]'}\n"
     ]
    }
   ],
   "source": [
    "print(payers)"
   ]
  },
  {
   "cell_type": "code",
   "execution_count": 101,
   "id": "b1dc3be3-110f-463d-9c6c-9cb8b2303741",
   "metadata": {},
   "outputs": [],
   "source": [
    "hospital_prices = hospital_prices[(hospital_prices['payer'] != 'GROSS CHARGE') & (hospital_prices['payer'] != 'MAX') & (hospital_prices['payer'] != 'MIN') & (hospital_prices['payer'] != 'CASH CHARGE') & (hospital_prices['payer'] != 'CASH PRICE')]"
   ]
  },
  {
   "cell_type": "code",
   "execution_count": 102,
   "id": "4e8f0b52-a523-4579-b4d7-1ab0e5694eca",
   "metadata": {},
   "outputs": [
    {
     "data": {
      "text/plain": [
       "VIVA HEALTH INC [308017]          6005\n",
       "CONNECTICUT GENERAL [100009]      6005\n",
       "AMERIGROUP MEDICAID [350002]      5866\n",
       "MEDICARE AETNA [450001]           5866\n",
       "WELLCARE GA MEDICAID [308019]     5866\n",
       "UNITED HEALTHCARE [100060]        5866\n",
       "PEACH STATE HLTH PLAN [308012]    5866\n",
       "NAPHCARE [308024]                 5866\n",
       "MEDICARE VIVAHEALTH [308009]      5866\n",
       "HUMANA [100052]                   5866\n",
       "BLUE ADVANTAGE [308003]           5866\n",
       "HUMANA GOLD CHOICE [450013]       5866\n",
       "GEHA [100039]                     5866\n",
       "FIRST HEALTH [308007]             5866\n",
       "CARESOURCE [100121]               5866\n",
       "BLUE CROSS OF ALA [200001]        5866\n",
       "WELLCARE MEDICARE [450023]        5866\n",
       "Name: payer, dtype: int64"
      ]
     },
     "execution_count": 102,
     "metadata": {},
     "output_type": "execute_result"
    }
   ],
   "source": [
    "hospital_prices['payer'].value_counts()"
   ]
  },
  {
   "cell_type": "code",
   "execution_count": 103,
   "id": "0a6e8cb3-db61-4e0e-b585-74951faa4362",
   "metadata": {},
   "outputs": [
    {
     "name": "stdout",
     "output_type": "stream",
     "text": [
      "{'CASH CHARGE', 'MAX', 'MIN', 'GROSS CHARGE'}\n"
     ]
    }
   ],
   "source": [
    "drop_payers = {'CASH CHARGE', 'MAX', 'MIN', 'GROSS CHARGE'}\n",
    "payers = set()\n",
    "for payer in hospital_prices['payer']:\n",
    "    payers.add(payer)\n",
    "    if \"OTHER\" in payer:\n",
    "               drop_payers.add(payer)\n",
    "print(drop_payers)"
   ]
  },
  {
   "cell_type": "code",
   "execution_count": 104,
   "id": "669ef2a3-acda-4e52-94fd-85c03a40a121",
   "metadata": {},
   "outputs": [
    {
     "name": "stdout",
     "output_type": "stream",
     "text": [
      "{'CONNECTICUT GENERAL [100009]', 'BLUE ADVANTAGE [308003]', 'WELLCARE MEDICARE [450023]', 'UNITED HEALTHCARE [100060]', 'BLUE CROSS OF ALA [200001]', 'AMERIGROUP MEDICAID [350002]', 'MEDICARE AETNA [450001]', 'GEHA [100039]', 'WELLCARE GA MEDICAID [308019]', 'FIRST HEALTH [308007]', 'HUMANA GOLD CHOICE [450013]', 'HUMANA [100052]', 'CARESOURCE [100121]', 'NAPHCARE [308024]', 'MEDICARE VIVAHEALTH [308009]', 'PEACH STATE HLTH PLAN [308012]', 'VIVA HEALTH INC [308017]'}\n"
     ]
    }
   ],
   "source": [
    "print(payers)"
   ]
  },
  {
   "cell_type": "code",
   "execution_count": 105,
   "id": "b5b21e03-cfdc-449e-b7ef-9c3d5a09bbb0",
   "metadata": {},
   "outputs": [
    {
     "data": {
      "text/plain": [
       "10001    100000\n",
       "Name: cms_certification_num, dtype: int64"
      ]
     },
     "execution_count": 105,
     "metadata": {},
     "output_type": "execute_result"
    }
   ],
   "source": [
    "hospital_prices['cms_certification_num'].value_counts()"
   ]
  },
  {
   "cell_type": "code",
   "execution_count": 106,
   "id": "157c8709-a810-4270-8ab1-02a0b5d160dc",
   "metadata": {},
   "outputs": [
    {
     "data": {
      "text/html": [
       "<div>\n",
       "<style scoped>\n",
       "    .dataframe tbody tr th:only-of-type {\n",
       "        vertical-align: middle;\n",
       "    }\n",
       "\n",
       "    .dataframe tbody tr th {\n",
       "        vertical-align: top;\n",
       "    }\n",
       "\n",
       "    .dataframe thead th {\n",
       "        text-align: right;\n",
       "    }\n",
       "</style>\n",
       "<table border=\"1\" class=\"dataframe\">\n",
       "  <thead>\n",
       "    <tr style=\"text-align: right;\">\n",
       "      <th></th>\n",
       "      <th>cms_certification_num</th>\n",
       "      <th>units</th>\n",
       "      <th>price</th>\n",
       "    </tr>\n",
       "  </thead>\n",
       "  <tbody>\n",
       "    <tr>\n",
       "      <th>count</th>\n",
       "      <td>100000.0</td>\n",
       "      <td>0.0</td>\n",
       "      <td>100000.000000</td>\n",
       "    </tr>\n",
       "    <tr>\n",
       "      <th>mean</th>\n",
       "      <td>10001.0</td>\n",
       "      <td>NaN</td>\n",
       "      <td>7870.533904</td>\n",
       "    </tr>\n",
       "    <tr>\n",
       "      <th>std</th>\n",
       "      <td>0.0</td>\n",
       "      <td>NaN</td>\n",
       "      <td>25357.245586</td>\n",
       "    </tr>\n",
       "    <tr>\n",
       "      <th>min</th>\n",
       "      <td>10001.0</td>\n",
       "      <td>NaN</td>\n",
       "      <td>0.000000</td>\n",
       "    </tr>\n",
       "    <tr>\n",
       "      <th>25%</th>\n",
       "      <td>10001.0</td>\n",
       "      <td>NaN</td>\n",
       "      <td>142.160000</td>\n",
       "    </tr>\n",
       "    <tr>\n",
       "      <th>50%</th>\n",
       "      <td>10001.0</td>\n",
       "      <td>NaN</td>\n",
       "      <td>701.250000</td>\n",
       "    </tr>\n",
       "    <tr>\n",
       "      <th>75%</th>\n",
       "      <td>10001.0</td>\n",
       "      <td>NaN</td>\n",
       "      <td>3657.500000</td>\n",
       "    </tr>\n",
       "    <tr>\n",
       "      <th>max</th>\n",
       "      <td>10001.0</td>\n",
       "      <td>NaN</td>\n",
       "      <td>540518.510000</td>\n",
       "    </tr>\n",
       "  </tbody>\n",
       "</table>\n",
       "</div>"
      ],
      "text/plain": [
       "       cms_certification_num  units          price\n",
       "count               100000.0    0.0  100000.000000\n",
       "mean                 10001.0    NaN    7870.533904\n",
       "std                      0.0    NaN   25357.245586\n",
       "min                  10001.0    NaN       0.000000\n",
       "25%                  10001.0    NaN     142.160000\n",
       "50%                  10001.0    NaN     701.250000\n",
       "75%                  10001.0    NaN    3657.500000\n",
       "max                  10001.0    NaN  540518.510000"
      ]
     },
     "execution_count": 106,
     "metadata": {},
     "output_type": "execute_result"
    }
   ],
   "source": [
    "hospital_prices.describe()"
   ]
  },
  {
   "cell_type": "code",
   "execution_count": 107,
   "id": "3d3e9dae-19fe-4620-9f46-a8bfc1f5f853",
   "metadata": {},
   "outputs": [
    {
     "data": {
      "text/plain": [
       "<AxesSubplot:>"
      ]
     },
     "execution_count": 107,
     "metadata": {},
     "output_type": "execute_result"
    },
    {
     "data": {
      "image/png": "[encoded data removed]",
      "text/plain": [
       "<Figure size 640x480 with 1 Axes>"
      ]
     },
     "metadata": {},
     "output_type": "display_data"
    }
   ],
   "source": [
    "hospital_prices['price'].value_counts().plot.bar()"
   ]
  },
  {
   "cell_type": "code",
   "execution_count": 108,
   "id": "009c6092-44b1-4a3c-92ae-0d681830c3d2",
   "metadata": {},
   "outputs": [
    {
     "name": "stdout",
     "output_type": "stream",
     "text": [
      "Mean Price: 7870.533903700288\n"
     ]
    }
   ],
   "source": [
    "print(\"Mean Price: {}\".format(hospital_prices['price'].mean()))"
   ]
  },
  {
   "cell_type": "code",
   "execution_count": 109,
   "id": "cd5cb99e-5b6d-482c-a5c3-a4cae08f7ca9",
   "metadata": {},
   "outputs": [
    {
     "name": "stdout",
     "output_type": "stream",
     "text": [
      "Median Price: 701.25\n"
     ]
    }
   ],
   "source": [
    "print(\"Median Price: {}\".format(hospital_prices['price'].median()))"
   ]
  },
  {
   "cell_type": "code",
   "execution_count": 91,
   "id": "3d901316-ae7e-42bc-b4fa-ca8520a19b93",
   "metadata": {},
   "outputs": [
    {
     "name": "stdout",
     "output_type": "stream",
     "text": [
      "Mode Price: 0    2475.0\n",
      "Name: price, dtype: float64\n"
     ]
    }
   ],
   "source": [
    "print(\"Mode Price: {}\".format(hospital_prices['price'].mode()))"
   ]
  },
  {
   "cell_type": "code",
   "execution_count": 92,
   "id": "9ca233f7-84b9-4cf6-831b-fba2b0251e23",
   "metadata": {},
   "outputs": [
    {
     "name": "stdout",
     "output_type": "stream",
     "text": [
      "Number of Payers: 191\n"
     ]
    }
   ],
   "source": [
    "print(\"Number of Payers: {}\".format(len(payers)))"
   ]
  },
  {
   "cell_type": "code",
   "execution_count": 93,
   "id": "a2d0807e-3bf5-4e90-b4e3-ea87b885221d",
   "metadata": {},
   "outputs": [
    {
     "data": {
      "text/plain": [
       "<AxesSubplot:>"
      ]
     },
     "execution_count": 93,
     "metadata": {},
     "output_type": "execute_result"
    },
    {
     "data": {
      "image/png": "[encoded data removed]",
      "text/plain": [
       "<Figure size 640x480 with 1 Axes>"
      ]
     },
     "metadata": {},
     "output_type": "display_data"
    }
   ],
   "source": [
    "hospital_prices['price'].plot.box()"
   ]
  },
  {
   "cell_type": "code",
   "execution_count": 110,
   "id": "126ae043-4f1e-4e17-beb8-1cf666cba5d4",
   "metadata": {},
   "outputs": [
    {
     "name": "stderr",
     "output_type": "stream",
     "text": [
      "C:\\Users\\vladc\\anaconda3\\lib\\site-packages\\seaborn\\_decorators.py:36: FutureWarning: Pass the following variable as a keyword arg: x. From version 0.12, the only valid positional argument will be `data`, and passing other arguments without an explicit keyword will result in an error or misinterpretation.\n",
      "  warnings.warn(\n"
     ]
    },
    {
     "data": {
      "text/plain": [
       "<AxesSubplot:xlabel='price'>"
      ]
     },
     "execution_count": 110,
     "metadata": {},
     "output_type": "execute_result"
    },
    {
     "data": {
      "image/png": "[encoded data removed]",
      "text/plain": [
       "<Figure size 640x480 with 1 Axes>"
      ]
     },
     "metadata": {},
     "output_type": "display_data"
    }
   ],
   "source": [
    "sns.boxplot(hospital_prices['price'])"
   ]
  },
  {
   "cell_type": "code",
   "execution_count": null,
   "id": "ba35076e-d304-43a4-a5c9-7f91f4d1f522",
   "metadata": {},
   "outputs": [],
   "source": []
  }
 ],
 "metadata": {
  "kernelspec": {
   "display_name": "Python 3 (ipykernel)",
   "language": "python",
   "name": "python3"
  },
  "language_info": {
   "codemirror_mode": {
    "name": "ipython",
    "version": 3
   },
   "file_extension": ".py",
   "mimetype": "text/x-python",
   "name": "python",
   "nbconvert_exporter": "python",
   "pygments_lexer": "ipython3",
   "version": "3.9.13"
  }
 },
 "nbformat": 4,
 "nbformat_minor": 5
}
